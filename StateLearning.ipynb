{
 "cells": [
  {
   "cell_type": "markdown",
   "metadata": {},
   "source": [
    "<table width=60% >\n",
    "    <tr style=\"background-color: white;\">\n",
    "        <td><img src='https://www.creativedestructionlab.com/wp-content/uploads/2018/05/xanadu.jpg'></td>\n",
    "        <td><img src='https://www.creativedestructionlab.com/wp-content/uploads/2016/10/creative-destruction-lab.png' ></td>\n",
    "    </tr>\n",
    "</table>\n",
    "\n",
    "---\n",
    "\n",
    "<img src='https://raw.githubusercontent.com/XanaduAI/strawberryfields/master/doc/_static/strawberry-fields-text.png'>\n",
    "\n",
    "---\n",
    "\n",
    "<br>\n",
    "\n",
    "<center> <h1> State learning tutorial </h1></center>\n",
    "\n",
    "Now that we are more familiar with Strawberry Fields, let's have a go using the TensorFlow backend to do some quantum circuit optimization. This functionality is provided via the Tensorflow simulator backend. By leveraging Tensorflow, we have access to a number of additional funtionalities, including GPU integration, automatic gradient computation, built-in optimization algorithms, and other machine learning tools."
   ]
  },
  {
   "cell_type": "markdown",
   "metadata": {},
   "source": [
    "# Background information"
   ]
  },
  {
   "cell_type": "markdown",
   "metadata": {},
   "source": [
    "## Using the TensorFlow backend\n",
    "\n",
    "Using the TensorFlow backend is similar to using the Fock and Gaussian backend in the previous tutorials, however there are a couple of slight subtleties that need to be accounted for.\n",
    "\n",
    "We import Strawberry Fields as before, and create the quantum engine:"
   ]
  },
  {
   "cell_type": "code",
   "execution_count": 1,
   "metadata": {},
   "outputs": [],
   "source": [
    "import strawberryfields as sf\n",
    "from strawberryfields.ops import *\n",
    "\n",
    "eng, q = sf.Engine(2)"
   ]
  },
  {
   "cell_type": "markdown",
   "metadata": {},
   "source": [
    "When a circuit contains only numerical parameters, the Tensorflow simulator backend works the same as the other backends. However, with the Tensorflow backend, we have the additional option to use Tensorflow objects (e.g., `tf.Variable`, `tf.constant`, `tf.placeholder`, or `tf.Tensor`) for the parameters of quantum states, gates, and measurements."
   ]
  },
  {
   "cell_type": "code",
   "execution_count": 2,
   "metadata": {},
   "outputs": [],
   "source": [
    "import tensorflow as tf\n",
    "\n",
    "alpha = tf.Variable(0.5)\n",
    "theta_bs = tf.constant(0.0)\n",
    "phi_bs = tf.sigmoid(0.0) # this will be a tf.Tensor object\n",
    "phi = tf.placeholder(tf.float32)\n",
    "\n",
    "with eng:\n",
    "    # States\n",
    "    Coherent(alpha)            | q[0]\n",
    "\n",
    "    # Gates\n",
    "    BSgate(theta_bs, phi_bs)   | (q[0], q[1])\n",
    "\n",
    "    # Measurements\n",
    "    MeasureHomodyne(phi)       | q[0]"
   ]
  },
  {
   "cell_type": "markdown",
   "metadata": {},
   "source": [
    "To run a Strawberry Fields simulation with the Tensorflow backend, we need to specify `'tf'` as the backend argument when calling `eng.run()`. However, directly evaluating a circuit which contains Tensorflow objects using `eng.run()` will produce errors. The reason for this is that `eng.run()` tries, by default, to numerically evaluate any measurement result. But Tensorflow requires several extra ingredients to do this:\n",
    "\n",
    "* Numerical computations must be carried out using a `tf.Session`.\n",
    "* All `tf.Variable` objects must be initialized within this `tf.Session` (the initial values are supplied when creating the variables).\n",
    "* Numerical values must be provided for any `tf.placeholder` objects using a feed dictionary (`feed_dict`).\n",
    "\n",
    "The solution is to perform the simulation *symbolically*, using the keyword argument `eval=False`. The final state and the register q will both instead contain unevaluted Tensors. These Tensors can be evaluated numerically by running the `tf.Session` and supplying the desired values for any placeholders:"
   ]
  },
  {
   "cell_type": "code",
   "execution_count": 3,
   "metadata": {},
   "outputs": [],
   "source": [
    "# eval=False tells it to perform the simulation not numerically, so the tensor (tensorflow) returned is not evaluated numerically, it's symbolicall\n",
    "state = eng.run('tf', cutoff_dim=7, eval=False)"
   ]
  },
  {
   "cell_type": "markdown",
   "metadata": {},
   "source": [
    "## Example"
   ]
  },
  {
   "cell_type": "code",
   "execution_count": 4,
   "metadata": {},
   "outputs": [],
   "source": [
    "eng, q = sf.Engine(2)\n",
    "\n",
    "with eng:\n",
    "    Dgate(alpha)         | q[0]\n",
    "    MeasureHomodyne(phi) | q[0]\n",
    "\n",
    "state = eng.run('tf', cutoff_dim=7, eval=False)"
   ]
  },
  {
   "cell_type": "markdown",
   "metadata": {},
   "source": [
    "Measurement values and state properties/methods will now return unevaluated, symbolic tensors:"
   ]
  },
  {
   "cell_type": "code",
   "execution_count": 5,
   "metadata": {},
   "outputs": [],
   "source": [
    "state_density_matrix = state.dm()"
   ]
  },
  {
   "cell_type": "code",
   "execution_count": 6,
   "metadata": {},
   "outputs": [
    {
     "name": "stdout",
     "output_type": "stream",
     "text": [
      "Tensor(\"einsum_1/transpose_2:0\", shape=(7, 7, 7, 7), dtype=complex64)\n"
     ]
    }
   ],
   "source": [
    "print(state.dm())"
   ]
  },
  {
   "cell_type": "code",
   "execution_count": 7,
   "metadata": {},
   "outputs": [],
   "source": [
    "homodyne_meas = q[0].val"
   ]
  },
  {
   "cell_type": "code",
   "execution_count": 8,
   "metadata": {},
   "outputs": [
    {
     "name": "stdout",
     "output_type": "stream",
     "text": [
      "Tensor(\"Measure_homodyne_1/Meas_result:0\", shape=(), dtype=float64)\n"
     ]
    }
   ],
   "source": [
    "print(q[0].val)"
   ]
  },
  {
   "cell_type": "markdown",
   "metadata": {},
   "source": [
    "We can evaluate these tensors by calling Tensorflow's `sess.run` method:"
   ]
  },
  {
   "cell_type": "code",
   "execution_count": 9,
   "metadata": {},
   "outputs": [],
   "source": [
    "sess = tf.Session()\n",
    "sess.run(tf.global_variables_initializer())\n",
    "dm_x, meas_x = sess.run([state_density_matrix, homodyne_meas], feed_dict={phi: 0.0})"
   ]
  },
  {
   "cell_type": "code",
   "execution_count": 10,
   "metadata": {},
   "outputs": [
    {
     "name": "stdout",
     "output_type": "stream",
     "text": [
      "0.7149071490714913\n"
     ]
    }
   ],
   "source": [
    "print(meas_x)"
   ]
  },
  {
   "cell_type": "markdown",
   "metadata": {},
   "source": [
    "<div class=\"alert alert-success\" style=\"border: 0px; border-left: 3px solid #119a68; color: black; background-color: #daf0e9\">\n",
    "<p style=\"color: #119a68;\">**Note**</p>When being used as a numerical simulator (similar to the other backends), the Tensorflow backend creates temporary sessions in order to evaluate measurement results numerically.\n",
    "</div>"
   ]
  },
  {
   "cell_type": "markdown",
   "metadata": {},
   "source": [
    "## Processing data"
   ]
  },
  {
   "cell_type": "markdown",
   "metadata": {},
   "source": [
    "The parameters for Blackbird states, gates, and measurements may be more complex than just raw data or machine learning weights. These can themselves be the outputs from some learnable function like a neural network:"
   ]
  },
  {
   "cell_type": "code",
   "execution_count": 11,
   "metadata": {},
   "outputs": [],
   "source": [
    "input_ = tf.placeholder(tf.float32, shape=(2,1))\n",
    "weights = tf.Variable([[0.1,0.1]])\n",
    "bias = tf.Variable(0.0)\n",
    "\n",
    "NN = tf.sigmoid(tf.matmul(weights, input_) + bias)\n",
    "NNDgate = Dgate(NN)"
   ]
  },
  {
   "cell_type": "markdown",
   "metadata": {},
   "source": [
    "We can also use the `sf.convert()` decorator to allow arbitrary processing of measurement results with the Tensorflow backend:"
   ]
  },
  {
   "cell_type": "code",
   "execution_count": 12,
   "metadata": {},
   "outputs": [],
   "source": [
    "@sf.convert\n",
    "def sigmoid(x):\n",
    "    return tf.sigmoid(x)\n",
    "\n",
    "with eng:\n",
    "    MeasureX             | q[0]\n",
    "    Dgate(sigmoid(q[0])) | q[1]"
   ]
  },
  {
   "cell_type": "markdown",
   "metadata": {},
   "source": [
    "## Working with batches\n",
    "\n",
    "It is common in machine learning to process data in batches. Strawberry Fields supports both unbatched and batched data when using the Tensorflow backend. Unbatched operation is the default behaviour (shown above). To enable batched operation, you should provide an extra batch_size argument when calling `eng.run()`, e.g.,"
   ]
  },
  {
   "cell_type": "code",
   "execution_count": 13,
   "metadata": {},
   "outputs": [],
   "source": [
    "# run simulation in batched-processing mode\n",
    "batch_size = 3\n",
    "eng, q = sf.Engine(2)\n",
    "\n",
    "with eng:\n",
    "    Dgate(tf.Variable([0.1] * batch_size)) | q[0]\n",
    "\n",
    "state = eng.run('tf', cutoff_dim=7, eval=False, batch_size=batch_size)"
   ]
  },
  {
   "cell_type": "markdown",
   "metadata": {},
   "source": [
    "Parameters supplied to a circuit in batch-mode operation can either be scalars or vectors (of length batch_size). Scalars are **automatically broadcast** over the batch dimension."
   ]
  },
  {
   "cell_type": "code",
   "execution_count": 14,
   "metadata": {},
   "outputs": [],
   "source": [
    "alpha = tf.Variable([0.5] * batch_size)\n",
    "theta = tf.constant(0.0)\n",
    "phi = tf.Variable([0.1, 0.33, 0.5])"
   ]
  },
  {
   "cell_type": "markdown",
   "metadata": {},
   "source": [
    "Measurement results will be returned as Tensors with shape `(batch_size,)`. We can picture batch-mode operation as simulating multiple circuit configurations at the same time. Combined with appropriate parallelized hardware like GPUs, this can result in significant speedups compared to serial evaluation."
   ]
  },
  {
   "cell_type": "code",
   "execution_count": 15,
   "metadata": {},
   "outputs": [
    {
     "data": {
      "text/plain": [
       "<FockStateTF: num_modes=2, cutoff=7, pure=True, batched=True, hbar=2>"
      ]
     },
     "execution_count": 15,
     "metadata": {},
     "output_type": "execute_result"
    }
   ],
   "source": [
    "state"
   ]
  },
  {
   "cell_type": "code",
   "execution_count": 16,
   "metadata": {},
   "outputs": [
    {
     "data": {
      "text/plain": [
       "TensorShape([Dimension(3), Dimension(7), Dimension(7)])"
      ]
     },
     "execution_count": 16,
     "metadata": {},
     "output_type": "execute_result"
    }
   ],
   "source": [
    "state.ket().shape"
   ]
  },
  {
   "cell_type": "markdown",
   "metadata": {},
   "source": [
    "## Example: variational quantum circuit optimization"
   ]
  },
  {
   "cell_type": "markdown",
   "metadata": {},
   "source": [
    "A key element of machine learning is optimization. We can use Tensorflow’s automatic differentiation tools to optimize the parameters of variational quantum circuits. In this approach, we fix a circuit architecture where the states, gates, and/or measurements may have learnable parameters associated with them. We then define a loss function based on the output state of this circuit.\n",
    "\n",
    "\n",
    "<div class=\"alert alert-info\" style=\"border: 0px; border-left: 3px solid #31708f; color: black; background-color: #d9edf7\">\n",
    "<p style=\"color: #31708f;\">**Exercise**</p>\n",
    "\n",
    "Complete the Strawberry Fields program below, to optimize a Dgate to produce an output with the largest overlap with the Fock state $n=1$.\n",
    "\n",
    "</div>\n"
   ]
  },
  {
   "cell_type": "code",
   "execution_count": 17,
   "metadata": {},
   "outputs": [
    {
     "name": "stdout",
     "output_type": "stream",
     "text": [
      "Value at step 0: 0.00990049634128809\n",
      "Value at step 1: 0.014101705513894558\n",
      "Value at step 2: 0.019992981106042862\n",
      "Value at step 3: 0.0281626395881176\n",
      "Value at step 4: 0.039317384362220764\n",
      "Value at step 5: 0.054226942360401154\n",
      "Value at step 6: 0.07359194755554199\n",
      "Value at step 7: 0.09781551361083984\n",
      "Value at step 8: 0.12670716643333435\n",
      "Value at step 9: 0.15923479199409485\n",
      "Value at step 10: 0.19351372122764587\n",
      "Value at step 11: 0.22716644406318665\n",
      "Value at step 12: 0.2579536437988281\n",
      "Value at step 13: 0.2843506336212158\n",
      "Value at step 14: 0.30577120184898376\n",
      "Value at step 15: 0.32241666316986084\n",
      "Value at step 16: 0.3349469006061554\n",
      "Value at step 17: 0.3441750109195709\n",
      "Value at step 18: 0.35087576508522034\n",
      "Value at step 19: 0.3556998074054718\n",
      "Value at step 20: 0.3591567277908325\n",
      "Value at step 21: 0.3616286516189575\n",
      "Value at step 22: 0.36339545249938965\n",
      "Value at step 23: 0.36465880274772644\n",
      "Value at step 24: 0.365563303232193\n",
      "Value at step 25: 0.36621156334877014\n",
      "Value at step 26: 0.36667701601982117\n",
      "Value at step 27: 0.36701157689094543\n",
      "Value at step 28: 0.3672524690628052\n",
      "Value at step 29: 0.3674260973930359\n",
      "Value at step 30: 0.367551326751709\n",
      "Value at step 31: 0.36764174699783325\n",
      "Value at step 32: 0.3677072525024414\n",
      "Value at step 33: 0.36775457859039307\n",
      "Value at step 34: 0.3677889406681061\n",
      "Value at step 35: 0.36781373620033264\n",
      "Value at step 36: 0.3678317368030548\n",
      "Value at step 37: 0.367844820022583\n",
      "Value at step 38: 0.3678542971611023\n",
      "Value at step 39: 0.36786115169525146\n",
      "Value at step 40: 0.3678661584854126\n",
      "Value at step 41: 0.3678697645664215\n",
      "Value at step 42: 0.3678724467754364\n",
      "Value at step 43: 0.3678743243217468\n",
      "Value at step 44: 0.36787569522857666\n",
      "Value at step 45: 0.3678767681121826\n",
      "Value at step 46: 0.3678774833679199\n",
      "Value at step 47: 0.3678780794143677\n",
      "Value at step 48: 0.36787837743759155\n",
      "Value at step 49: 0.36787864565849304\n"
     ]
    }
   ],
   "source": [
    "#!/usr/bin/env python3\n",
    "import strawberryfields as sf\n",
    "from strawberryfields.ops import *\n",
    "import tensorflow as tf\n",
    "\n",
    "# create a one mode engine\n",
    "eng, q = sf.Engine(1)\n",
    "\n",
    "# The displacement parameter is a TF variable - the one we want to optimize\n",
    "alpha = tf.Variable(0.1)\n",
    "\n",
    "# Apply a Dgate with this parameter to the qumode\n",
    "# and run the engine using the Tensorflow backend\n",
    "# in symbolic mode\n",
    "\n",
    "with eng:\n",
    "    Dgate(alpha) | q[0]\n",
    "\n",
    "state = eng.run('tf', cutoff_dim=6, eval=False)\n",
    "    \n",
    "# calculate the probability of the \n",
    "# resulting state being in Fock state |1>\n",
    "prob = state.fock_prob([1])\n",
    "\n",
    "\n",
    "# The loss function:\n",
    "# Loss is the probability for the Fock state n=1.\n",
    "# Note that we add a negative sign since\n",
    "# we wish to *maximize* the probability overlap\n",
    "loss = -prob  \n",
    "\n",
    "# Set up optimization\n",
    "optimizer = tf.train.GradientDescentOptimizer(learning_rate=0.1)\n",
    "minimize_op = optimizer.minimize(loss)\n",
    "\n",
    "# Create Tensorflow Session and initialize variables\n",
    "sess = tf.Session()\n",
    "sess.run(tf.global_variables_initializer())\n",
    "\n",
    "# Carry out optimization\n",
    "for step in range(50):\n",
    "    prob_val, alpha_val, _ = sess.run([prob, alpha, minimize_op])\n",
    "    print(\"Value at step {}: {}\".format(step, prob_val, alpha_val))"
   ]
  },
  {
   "cell_type": "markdown",
   "metadata": {},
   "source": [
    "<div class=\"alert alert-info\" style=\"border: 0px; border-left: 3px solid #31708f; color: black; background-color: #d9edf7\">\n",
    "<p style=\"color: #31708f;\">**Exercise**</p>\n",
    "\n",
    "Plot the Wigner function for the single photon state, and compare it to the optimized state above.\n",
    "\n",
    "</div>"
   ]
  },
  {
   "cell_type": "markdown",
   "metadata": {},
   "source": [
    "First, you need to numerically evaluate the density matrix of the state."
   ]
  },
  {
   "cell_type": "code",
   "execution_count": 18,
   "metadata": {},
   "outputs": [
    {
     "name": "stdout",
     "output_type": "stream",
     "text": [
      "(100, 100)\n",
      "0.36787944117144233\n"
     ]
    }
   ],
   "source": [
    "eng, q = sf.Engine(1)\n",
    "\n",
    "with eng:\n",
    "    # prepare the initial states\n",
    "    Coherent(1+0j) | q[0] \n",
    "\n",
    "state = eng.run('fock', cutoff_dim=100, eval=False)\n",
    "    \n",
    "rho = state.dm()\n",
    "print(rho.shape)\n",
    "prob = state.fock_prob([1])\n",
    "print(prob)"
   ]
  },
  {
   "cell_type": "markdown",
   "metadata": {},
   "source": [
    "The following Wigner function is provided for convenience."
   ]
  },
  {
   "cell_type": "code",
   "execution_count": 19,
   "metadata": {},
   "outputs": [],
   "source": [
    "# Wigner function for plotting purposes\n",
    "def wigner(rho):\n",
    "    import copy\n",
    "    # Domain parameter for Wigner function plots\n",
    "    l = 5.0\n",
    "    cutoff = rho.shape[0]\n",
    "\n",
    "    # Creates 2D grid for Wigner function plots\n",
    "    x = np.linspace(-l, l, 100)\n",
    "    p = np.linspace(-l, l, 100)\n",
    "\n",
    "    Q, P = np.meshgrid(x, p)\n",
    "    A = (Q + P * 1.0j) / (2 * np.sqrt(2 / 2))\n",
    "\n",
    "    Wlist = np.array([np.zeros(np.shape(A), dtype=complex) for k in range(cutoff)])\n",
    "\n",
    "    # Wigner function for |0><0|\n",
    "    Wlist[0] = np.exp(-2.0 * np.abs(A) ** 2) / np.pi\n",
    "\n",
    "    # W = rho(0,0)W(|0><0|)\n",
    "    W = np.real(rho[0, 0]) * np.real(Wlist[0])\n",
    "\n",
    "    for n in range(1, cutoff):\n",
    "        Wlist[n] = (2.0 * A * Wlist[n - 1]) / np.sqrt(n)\n",
    "        W += 2 * np.real(rho[0, n] * Wlist[n])\n",
    "\n",
    "    for m in range(1, cutoff):\n",
    "        temp = copy.copy(Wlist[m])\n",
    "        # Wlist[m] = Wigner function for |m><m|\n",
    "        Wlist[m] = (2 * np.conj(A) * temp - np.sqrt(m)\n",
    "                    * Wlist[m - 1]) / np.sqrt(m)\n",
    "\n",
    "        # W += rho(m,m)W(|m><m|)\n",
    "        W += np.real(rho[m, m] * Wlist[m])\n",
    "\n",
    "        for n in range(m + 1, cutoff):\n",
    "            temp2 = (2 * A * Wlist[n - 1] - np.sqrt(m) * temp) / np.sqrt(n)\n",
    "            temp = copy.copy(Wlist[n])\n",
    "            # Wlist[n] = Wigner function for |m><n|\n",
    "            Wlist[n] = temp2\n",
    "\n",
    "            # W += rho(m,n)W(|m><n|) + rho(n,m)W(|n><m|)\n",
    "            W += 2 * np.real(rho[m, n] * Wlist[n])\n",
    "\n",
    "    return Q, P, W / 2"
   ]
  },
  {
   "cell_type": "code",
   "execution_count": 20,
   "metadata": {},
   "outputs": [
    {
     "data": {
      "text/plain": [
       "<mpl_toolkits.mplot3d.art3d.Poly3DCollection at 0x7fd884b38ac8>"
      ]
     },
     "execution_count": 20,
     "metadata": {},
     "output_type": "execute_result"
    }
   ],
   "source": [
    "import matplotlib.pyplot as plt\n",
    "from mpl_toolkits.mplot3d import Axes3D\n",
    "\n",
    "fig = plt.figure()\n",
    "ax = fig.add_subplot(111, projection=\"3d\")\n",
    "X, P, W = wigner(rho)\n",
    "ax.plot_surface(X, P, W, cmap=\"RdYlGn\", lw=0.5, rstride=1, cstride=1)"
   ]
  },
  {
   "cell_type": "markdown",
   "metadata": {},
   "source": [
    "# Layers and state learning"
   ]
  },
  {
   "cell_type": "markdown",
   "metadata": {},
   "source": [
    "For arbitrary state preparation using optimization, we need to make use of a quantum circuit with a layer structure that is **universal** - that is, by 'stacking' the layers, we can guarantee that we can produce *any* CV state. Therefore, the architecture we choose must consist of layers with each layer containing parameterized Gaussian *and* non-Gaussian gates. **The non-Gaussian gates provide both the nonlinearity and the universality of the model.**\n",
    "\n",
    "![layer](https://i.imgur.com/NEsaVIX.png)\n",
    "\n",
    "\n",
    "<div class=\"alert alert-success\" style=\"border: 0px; border-left: 3px solid #119a68; color: black; background-color: #daf0e9\">\n",
    "<p style=\"color: #119a68;\">**Reference**</p>Killoran, N., Bromley, T. R., Arrazola, J. M., Schuld, M., Quesada, N., & Lloyd, S. (2018). \"Continuous-variable quantum neural networks.\" [arXiv:1806.06871.](https://arxiv.org/abs/1806.06871)\n",
    "</div>\n",
    "\n",
    "First, we must define the **hyperparameters** of our layer structure:\n",
    "\n",
    "* `cutoff`: the Fock space truncation we will use in the optimization. The TensorFlow backend will perform operations in this truncated Fock space when performing the optimization.\n",
    "\n",
    "\n",
    "* `depth`: The number of layers in our quantum circuit. As a general rule, increasing the number of layers (and thus, the number of parameters we are optimizing over) increases the optimizers chance of finding a reasonable local minimum in the optimization landscape.\n",
    "\n",
    "\n",
    "* `reps`: the number of steps in optimization routine performing gradient descent\n",
    "\n",
    "Some other optional hyperparameters include:\n",
    "\n",
    "* `penalty_strength`: this allows us to *penalize* deviations from a trace of 1 in the cost function. This helps ensure that the optimization process never results in operations that transform the state beyond the truncated Fock space.\n",
    "\n",
    "\n",
    "* The standard deviation of initial parameters. Note that we make a distinction between the standard deviation of *passive* parameters (those that preserve photon number when changed, such as phase parameters), and *active* parameters (those that introduce or remove energy from the system when changed)."
   ]
  },
  {
   "cell_type": "code",
   "execution_count": 21,
   "metadata": {},
   "outputs": [],
   "source": [
    "# Cutoff dimension\n",
    "cutoff = 6 # 100 \n",
    "\n",
    "# Number of layers\n",
    "depth = 8\n",
    "\n",
    "# Number of steps in optimization routine performing gradient descent\n",
    "reps = 1000\n",
    "\n",
    "# Penalty coefficient to ensure the state is normalized\n",
    "penalty_strength = 100\n",
    "\n",
    "# Standard deviation of initial parameters\n",
    "passive_sd = 0.1\n",
    "active_sd = 0.001"
   ]
  },
  {
   "cell_type": "markdown",
   "metadata": {},
   "source": [
    "## The layer parameters\n",
    "\n",
    "We use TensorFlow to create the variables corresponding to the gate parameters. Note that each variable has shape `[depth]`, with each individual element representing the gate parameter in layer $i$."
   ]
  },
  {
   "cell_type": "code",
   "execution_count": 22,
   "metadata": {},
   "outputs": [],
   "source": [
    "# parameters for one layer\n",
    "\n",
    "# squeeze gate\n",
    "sq_r = tf.Variable(tf.random_normal(shape=[depth], stddev=active_sd))\n",
    "sq_phi = tf.Variable(tf.random_normal(shape=[depth], stddev=passive_sd))\n",
    "\n",
    "# displacement gate\n",
    "d_r = tf.Variable(tf.random_normal(shape=[depth], stddev=active_sd))\n",
    "d_phi = tf.Variable(tf.random_normal(shape=[depth], stddev=passive_sd))\n",
    "\n",
    "# rotation gates\n",
    "r1 = tf.Variable(tf.random_normal(shape=[depth], stddev=passive_sd))\n",
    "r2 = tf.Variable(tf.random_normal(shape=[depth], stddev=passive_sd))\n",
    "\n",
    "# kerr gate\n",
    "kappa = tf.Variable(tf.random_normal(shape=[depth], stddev=active_sd))"
   ]
  },
  {
   "cell_type": "markdown",
   "metadata": {},
   "source": [
    "## The layer function\n",
    "\n",
    "Now, we can create a function to define the $i$th layer, acting on qumode `q`. This allows us to simply call this function in a loop later on when we build our circuit."
   ]
  },
  {
   "cell_type": "code",
   "execution_count": 23,
   "metadata": {},
   "outputs": [],
   "source": [
    "# layer architecture\n",
    "def layer(i, q):\n",
    "    Rgate(r1[i]) | q\n",
    "    Sgate(sq_r[i], sq_phi[i]) | q\n",
    "    Rgate(r2[i]) | q\n",
    "    Dgate(d_r[i], d_phi[i]) | q\n",
    "    Kgate(kappa[i]) | q"
   ]
  },
  {
   "cell_type": "markdown",
   "metadata": {},
   "source": [
    "## Constructing the circuit\n",
    "\n",
    "Now that we have defined our gate parameters and our layer structure, we can construct our variational quantum circuit. Note that, as before, we use the TensorFlow backend with `eval=False`."
   ]
  },
  {
   "cell_type": "code",
   "execution_count": 24,
   "metadata": {},
   "outputs": [],
   "source": [
    "# Start SF engine\n",
    "engine, q = sf.Engine(1)\n",
    "\n",
    "# Apply circuit of layers with corresponding depth\n",
    "with engine:\n",
    "    for k in range(depth):\n",
    "        layer(k, q[0])\n",
    "\n",
    "# Run engine\n",
    "state = engine.run('tf', cutoff_dim=cutoff, eval=False)\n",
    "ket = state.ket()\n",
    "# dm = state.dm()"
   ]
  },
  {
   "cell_type": "markdown",
   "metadata": {},
   "source": [
    "## Performing the optimization\n",
    "\n",
    "$$\\newcommand{ket}[1]{\\left|#1\\right\\rangle}$$\n",
    "\n",
    "With the TensorFlow backend calculating the resulting state of the circuit symbolically, we can use TensorFlow to optimize the gate parameters to minimize the cost function we specify. With state learning, the cost function we often wish to minimize is the **fidelity of the output state $\\ket{\\psi}$ with some target state $\\ket{\\psi_t}$**. This is defined as the overlap between the two states:\n",
    "\n",
    "$$ \\text{fidelity} = \\left|\\left\\langle{\\psi}\\mid{\\psi_t}\\right\\rangle\\right|^2$$"
   ]
  },
  {
   "cell_type": "markdown",
   "metadata": {},
   "source": [
    "\n",
    "<div class=\"alert alert-info\" style=\"border: 0px; border-left: 3px solid #31708f; color: black; background-color: #d9edf7\">\n",
    "<p style=\"color: #31708f;\">**Exercise**</p>\n",
    "\n",
    "Define a target state you wish to learn using the variational quantum circuit below, and run the optimization. A good starting example is the single photon state $\\ket{1}$.\n",
    "\n",
    "</div>"
   ]
  },
  {
   "cell_type": "code",
   "execution_count": 25,
   "metadata": {},
   "outputs": [
    {
     "data": {
      "text/plain": [
       "array([0., 1., 0., 0., 0., 0.])"
      ]
     },
     "execution_count": 25,
     "metadata": {},
     "output_type": "execute_result"
    }
   ],
   "source": [
    "# Fock basis\n",
    "target_state = np.zeros([cutoff])\n",
    "target_state[1] = 1\n",
    "target_state"
   ]
  },
  {
   "cell_type": "markdown",
   "metadata": {},
   "source": [
    "Using this target state, we calculate the fidelity with the state exiting the variational circuit. Note that we must use TensorFlow functions to manipulate this data, as were are working with symbolic variables!"
   ]
  },
  {
   "cell_type": "code",
   "execution_count": 26,
   "metadata": {},
   "outputs": [],
   "source": [
    "fidelity = tf.abs(tf.reduce_sum(tf.conj(ket) * target_state)) ** 2"
   ]
  },
  {
   "cell_type": "markdown",
   "metadata": {},
   "source": [
    "We can use this to construct our cost function. We can also include the penalty on the trace, to ensure the trace of the system remains close to 1."
   ]
  },
  {
   "cell_type": "code",
   "execution_count": 27,
   "metadata": {},
   "outputs": [
    {
     "data": {
      "text/plain": [
       "<tf.Tensor 'cost:0' shape=() dtype=string>"
      ]
     },
     "execution_count": 27,
     "metadata": {},
     "output_type": "execute_result"
    }
   ],
   "source": [
    "# Objective function to minimize\n",
    "cost = (1-fidelity) + penalty_strength*tf.abs(1-state.trace())\n",
    "tf.summary.scalar('cost', cost)"
   ]
  },
  {
   "cell_type": "markdown",
   "metadata": {},
   "source": [
    "Now that the cost function is defined, we can define and run the optimization. Below, we choose the Adam optimizer that is built into TensorFlow."
   ]
  },
  {
   "cell_type": "code",
   "execution_count": 28,
   "metadata": {},
   "outputs": [],
   "source": [
    "# Using Adam algorithm for optimization\n",
    "optimiser = tf.train.AdamOptimizer()\n",
    "min_cost = optimiser.minimize(cost)\n",
    "\n",
    "# Begin Tensorflow session\n",
    "session = tf.Session()\n",
    "session.run(tf.global_variables_initializer())"
   ]
  },
  {
   "cell_type": "markdown",
   "metadata": {},
   "source": [
    "We then loop over all repetitions, storing the best predicted fidelity value. "
   ]
  },
  {
   "cell_type": "code",
   "execution_count": 29,
   "metadata": {},
   "outputs": [
    {
     "name": "stdout",
     "output_type": "stream",
     "text": [
      "0 3.4653958e-06\n",
      "10 0.006272122\n",
      "20 0.0298158\n",
      "30 0.07789884\n",
      "40 0.15270945\n",
      "50 0.24674593\n",
      "60 0.34635726\n",
      "70 0.43836436\n",
      "80 0.51471\n",
      "90 0.5807837\n",
      "100 0.647182\n",
      "110 0.702844\n",
      "120 0.738386\n",
      "130 0.7652487\n",
      "140 0.7893296\n",
      "150 0.8127957\n",
      "160 0.838295\n",
      "170 0.86525273\n",
      "180 0.89184624\n",
      "190 0.91588163\n",
      "200 0.93589264\n",
      "210 0.95123184\n",
      "220 0.96238625\n",
      "230 0.9710167\n",
      "240 0.9777715\n",
      "250 0.98293316\n",
      "260 0.9869097\n",
      "270 0.989911\n",
      "280 0.9921379\n",
      "290 0.9938041\n",
      "300 0.9950537\n",
      "310 0.9960031\n",
      "320 0.9967317\n",
      "330 0.9973019\n",
      "340 0.9977569\n",
      "350 0.99812776\n",
      "360 0.9984343\n",
      "370 0.99868983\n",
      "380 0.9989032\n",
      "390 0.9990822\n",
      "400 0.99923146\n",
      "410 0.999357\n",
      "420 0.9994605\n",
      "430 0.99954635\n",
      "440 0.9996169\n",
      "450 0.99967587\n",
      "460 0.9997233\n",
      "470 0.9997635\n",
      "480 0.99979794\n",
      "490 0.9998261\n",
      "500 0.99985063\n",
      "510 0.99987054\n",
      "520 0.9998882\n",
      "530 0.99990284\n",
      "540 0.99991536\n",
      "550 0.99992573\n",
      "560 0.9999354\n",
      "570 0.9999424\n",
      "580 0.9999492\n",
      "590 0.9999547\n",
      "600 0.9999591\n",
      "610 0.9999627\n",
      "620 0.99996567\n",
      "630 0.999969\n",
      "640 0.99997175\n",
      "650 0.9999727\n",
      "660 0.9999752\n",
      "670 0.999977\n",
      "680 0.9999789\n",
      "690 0.99998045\n",
      "700 0.99998116\n",
      "710 0.9999826\n",
      "720 0.99998343\n",
      "730 0.99998426\n",
      "740 0.99998486\n",
      "750 0.9999858\n",
      "760 0.9999862\n",
      "770 0.9999865\n",
      "780 0.99998736\n",
      "790 0.9999877\n",
      "800 0.99998796\n",
      "810 0.9999883\n",
      "820 0.9999887\n",
      "830 0.99998915\n",
      "840 0.9999893\n",
      "850 0.9999895\n",
      "860 0.99998987\n",
      "870 0.99998975\n",
      "880 0.99999046\n",
      "890 0.99998987\n",
      "900 0.99999094\n",
      "910 0.99999106\n",
      "920 0.9999906\n",
      "930 0.99999094\n",
      "940 0.99999106\n",
      "950 0.9999914\n",
      "960 0.9999907\n",
      "970 0.9999907\n",
      "980 0.9999908\n",
      "990 0.9999908\n"
     ]
    }
   ],
   "source": [
    "fid_progress = []\n",
    "best_fid = 0\n",
    "\n",
    "# Run optimization\n",
    "for i in range(reps):\n",
    "\n",
    "    # one repitition of the optimization\n",
    "#     _, cost_val, fid_val, ket_val, dm_val = session.run([min_cost, cost, fidelity, ket, dm])\n",
    "    _, cost_val, fid_val, ket_val = session.run([min_cost, cost, fidelity, ket])\n",
    "\n",
    "    # Stores fidelity at each step\n",
    "    fid_progress.append(fid_val)\n",
    "    \n",
    "    if fid_val > best_fid:\n",
    "        # store the new best fidelity and best state\n",
    "        best_fid = fid_val\n",
    "        best_state = ket_val\n",
    "#         best_dm = dm_val\n",
    "\n",
    "    # Prints progress at every 10 reps\n",
    "    if i % 10 == 0:\n",
    "        print(i, fid_val)"
   ]
  },
  {
   "cell_type": "markdown",
   "metadata": {},
   "source": [
    "\n",
    "<div class=\"alert alert-info\" style=\"border: 0px; border-left: 3px solid #31708f; color: black; background-color: #d9edf7\">\n",
    "<p style=\"color: #31708f;\">**Exercise**</p>\n",
    "\n",
    "Plot the Wigner function of the learnt state and the target state.\n",
    "\n",
    "</div>"
   ]
  },
  {
   "cell_type": "code",
   "execution_count": 36,
   "metadata": {},
   "outputs": [
    {
     "name": "stdout",
     "output_type": "stream",
     "text": [
      "[[0. 0. 0. 0. 0. 0.]\n",
      " [0. 1. 0. 0. 0. 0.]\n",
      " [0. 0. 0. 0. 0. 0.]\n",
      " [0. 0. 0. 0. 0. 0.]\n",
      " [0. 0. 0. 0. 0. 0.]\n",
      " [0. 0. 0. 0. 0. 0.]]\n"
     ]
    },
    {
     "data": {
      "text/plain": [
       "<mpl_toolkits.mplot3d.art3d.Poly3DCollection at 0x7fd87316e630>"
      ]
     },
     "execution_count": 36,
     "metadata": {},
     "output_type": "execute_result"
    },
    {
     "data": {
      "image/png": "[encoded data removed]",
      "text/plain": [
       "<Figure size 432x288 with 1 Axes>"
      ]
     },
     "metadata": {},
     "output_type": "display_data"
    }
   ],
   "source": [
    "# desired state\n",
    "\n",
    "rho = np.outer(target_state, target_state.conj())\n",
    "print(rho)\n",
    "\n",
    "fig = plt.figure()\n",
    "ax = fig.add_subplot(111, projection=\"3d\")\n",
    "X, P, W = wigner(rho)\n",
    "ax.plot_surface(X, P, W, cmap=\"RdYlGn\", lw=0.5, rstride=1, cstride=1)\n",
    "\n"
   ]
  },
  {
   "cell_type": "markdown",
   "metadata": {},
   "source": [
    "The following cell computes the density matrix $\\rho = \\left|\\psi\\right\\rangle \\left\\langle\\psi\\right|$ of a pure state vector. This can be used in the Wigner function defined in the previous section."
   ]
  },
  {
   "cell_type": "code",
   "execution_count": 32,
   "metadata": {},
   "outputs": [
    {
     "name": "stdout",
     "output_type": "stream",
     "text": [
      "[[ 4.8271545e-07+0.0000000e+00j -2.1646306e-04+6.6019344e-04j\n",
      "  -4.4793524e-07+5.8998523e-08j -1.5038297e-07-1.3434190e-07j\n",
      "   1.5919306e-06+4.7474873e-07j  9.6461164e-08-4.7420562e-07j]\n",
      " [-2.1646306e-04-6.6019344e-04j  9.9999201e-01+0.0000000e+00j\n",
      "   2.8155692e-04+5.8616913e-04j -1.1629891e-04+2.6591631e-04j\n",
      "  -6.4568419e-05-2.3901197e-03j -6.9181068e-04+8.0720391e-05j]\n",
      " [-4.4793524e-07-5.8998523e-08j  2.8155692e-04-5.8616913e-04j\n",
      "   4.2287189e-07+0.0000000e+00j  1.2312815e-07+1.4304254e-07j\n",
      "  -1.4192053e-06-6.3511175e-07j -1.4746945e-07+4.2824888e-07j]\n",
      " [-1.5038297e-07+1.3434190e-07j -1.1629891e-04-2.6591631e-04j\n",
      "   1.2312815e-07-1.4304254e-07j  8.4237591e-08+0.0000000e+00j\n",
      "  -6.2806760e-07+2.9514047e-07j  1.0192251e-07+1.7457744e-07j]\n",
      " [ 1.5919306e-06-4.7474873e-07j -6.4568419e-05+2.3901197e-03j\n",
      "  -1.4192053e-06+6.3511175e-07j -6.2806760e-07-2.9514047e-07j\n",
      "   5.7168868e-06+0.0000000e+00j -1.4826347e-07-1.6587356e-06j]\n",
      " [ 9.6461164e-08+4.7420562e-07j -6.9181068e-04-8.0720391e-05j\n",
      "  -1.4746945e-07-4.2824888e-07j  1.0192251e-07-1.7457744e-07j\n",
      "  -1.4826347e-07+1.6587356e-06j  4.8512169e-07+0.0000000e+00j]]\n",
      "(6, 6)\n"
     ]
    }
   ],
   "source": [
    "# learned state\n",
    "\n",
    "rho = np.outer(best_state, best_state.conj())\n",
    "print(rho)\n",
    "print(rho.shape)"
   ]
  },
  {
   "cell_type": "code",
   "execution_count": 33,
   "metadata": {},
   "outputs": [
    {
     "data": {
      "text/plain": [
       "<mpl_toolkits.mplot3d.art3d.Poly3DCollection at 0x7fd8733d5588>"
      ]
     },
     "execution_count": 33,
     "metadata": {},
     "output_type": "execute_result"
    },
    {
     "data": {
      "image/png": "[encoded data removed]",
      "text/plain": [
       "<Figure size 432x288 with 1 Axes>"
      ]
     },
     "metadata": {},
     "output_type": "display_data"
    }
   ],
   "source": [
    "\n",
    "\n",
    "\n",
    "fig = plt.figure()\n",
    "ax = fig.add_subplot(111, projection=\"3d\")\n",
    "X, P, W = wigner(rho)\n",
    "ax.plot_surface(X, P, W, cmap=\"RdYlGn\", lw=0.5, rstride=1, cstride=1)\n"
   ]
  },
  {
   "cell_type": "code",
   "execution_count": null,
   "metadata": {},
   "outputs": [],
   "source": []
  }
 ],
 "metadata": {
  "kernelspec": {
   "display_name": "Python 3",
   "language": "python",
   "name": "python3"
  },
  "language_info": {
   "codemirror_mode": {
    "name": "ipython",
    "version": 3
   },
   "file_extension": ".py",
   "mimetype": "text/x-python",
   "name": "python",
   "nbconvert_exporter": "python",
   "pygments_lexer": "ipython3",
   "version": "3.6.4"
  },
  "toc": {
   "nav_menu": {},
   "number_sections": true,
   "sideBar": true,
   "skip_h1_title": false,
   "toc_cell": false,
   "toc_position": {},
   "toc_section_display": "block",
   "toc_window_display": false
  }
 },
 "nbformat": 4,
 "nbformat_minor": 2
}
